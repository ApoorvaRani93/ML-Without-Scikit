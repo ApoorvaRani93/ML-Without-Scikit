{
 "cells": [
  {
   "cell_type": "markdown",
   "metadata": {},
   "source": [
    "## Implementing Naive Bayes"
   ]
  },
  {
   "cell_type": "code",
   "execution_count": 1,
   "metadata": {},
   "outputs": [
    {
     "name": "stdout",
     "output_type": "stream",
     "text": [
      "104\n"
     ]
    }
   ],
   "source": [
    "import numpy as np\n",
    "import pandas as pd\n",
    "import math\n",
    "\n",
    "def calculatemean(df):\n",
    "    unique_target = np.unique(df[:,-1],return_counts = True)\n",
    "    #classA and its first attribute\n",
    "    divide_data = df[df[:,-1]==unique_target[0][0]]\n",
    "    meanc1a1 = np.sum(divide_data[:,0])/len(divide_data)\n",
    "    #class A and its second attribute\n",
    "    meanc1a2 = np.sum(divide_data[:,1])/len(divide_data)\n",
    "    #for class B\n",
    "    divide_data = df[df[:,-1]==unique_target[0][1]]\n",
    "    meanc2a1 = np.sum(divide_data[:,0])/len(divide_data)\n",
    "    meanc2a2 = np.sum(divide_data[:,1])/len(divide_data)\n",
    "    return meanc1a1,meanc1a2,meanc2a1,meanc2a2\n",
    "\n",
    "def calculatesd(df,meanc1a1,meanc1a2,meanc2a1,meanc2a2):\n",
    "    unique_target = np.unique(df[:,-1],return_counts = True)\n",
    "    divide_data = df[df[:,-1]==unique_target[0][0]]\n",
    "    sdc1a1 = np.sum(np.square(np.array(pd.DataFrame(divide_data[:,0]-meanc1a1))))/(len(divide_data)-1)\n",
    "    sdc1a2 = np.sum(np.square(np.array(pd.DataFrame(divide_data[:,1]-meanc1a2))))/(len(divide_data)-1)\n",
    "    divide_data = df[df[:,-1]==unique_target[0][1]]\n",
    "    sdc2a1 = np.sum(np.square(np.array(pd.DataFrame(divide_data[:,0]-meanc2a1))))/(len(divide_data)-1)\n",
    "    sdc2a2 = np.sum(np.square(np.array(pd.DataFrame(divide_data[:,1]-meanc2a2))))/(len(divide_data)-1)\n",
    "    return sdc1a1,sdc1a2,sdc2a1,sdc2a2\n",
    "\n",
    "def gausiancalc(instance,mc1a1,mc1a2,mc2a1,mc2a2,sdc1a1,sdc1a2,sdc2a1,sdc2a2):\n",
    "    #forclassA\n",
    "    exponentx1a = -(np.square((instance[0] - mc1a1))/(2*sdc1a1))\n",
    "    prob_x1givenA = math.exp(exponentx1a)/np.sqrt(2*math.pi*sdc1a1)\n",
    "    exponentx2a = -(np.square((instance[1] - mc1a2))/(2*sdc1a2))\n",
    "    prob_x2givenA = math.exp(exponentx2a)/np.sqrt(2*math.pi*sdc1a2)\n",
    "    exponentx1b = -(np.square((instance[0] - mc2a1))/(2*sdc2a1))\n",
    "    #forclassB\n",
    "    prob_x1givenB = math.exp(exponentx1b)/np.sqrt(2*math.pi*sdc2a1)\n",
    "    exponentx2b = -(np.square((instance[1] - mc2a2))/(2*sdc2a2))\n",
    "    prob_x2givenB = math.exp(exponentx2b)/np.sqrt(2*math.pi*sdc2a2)\n",
    "    \n",
    "    return prob_x1givenA,prob_x2givenA,prob_x1givenB,prob_x2givenB\n",
    "\n",
    "def calculateprobs(df,mc1a1,mc1a2,mc2a1,mc2a2,sdc1a1,sdc1a2,sdc2a1,sdc2a2):\n",
    "    misclass = 0\n",
    "    for i in range(len(df)):\n",
    "        x1A,x2A,x1B,x2B = gausiancalc(df[i],mc1a1,mc1a2,mc2a1,mc2a2,sdc1a1,sdc1a2,sdc2a1,sdc2a2)\n",
    "        probAgivenX = (x1A*x2A * prob_class[0])/(x1B * x2B * prob_class[0])\n",
    "        probBgivenX = (x1B * x2B * prob_class[0])/(x1A*x2A * prob_class[0])\n",
    "        if probAgivenX > probBgivenX :\n",
    "            label = 'A'\n",
    "        else:\n",
    "            label = 'B'\n",
    "        if (df[i][-1]!=label):\n",
    "            misclass = misclass + 1 \n",
    "    print(misclass)\n",
    "    \n",
    "if __name__ == '__main__':\n",
    "    data = pd.read_csv(\"Gauss2.tsv\",header=None,delim_whitespace=True)\n",
    "    df=data.values\n",
    "\n",
    "    df2 = data.iloc[:,0]#take the first column\n",
    "    X = df[:,1:(df.shape[1])] \n",
    "    z = np.array(df2).reshape(len(X),1) #convert to array\n",
    "    X=np.append(X,z,axis=1)\n",
    "    data = pd.DataFrame(X)\n",
    "    df=data.values\n",
    "    count_classes = data.iloc[:,-1].value_counts()\n",
    "    total_count_classes = np.sum(np.array(count_classes))\n",
    "    prob_class = count_classes/total_count_classes\n",
    "    a,b,c,d = calculatemean(df)\n",
    "    p,q,r,s = calculatesd(df,a,b,c,d)\n",
    "    calculateprobs(df,a,b,c,d,p,q,r,s)"
   ]
  },
  {
   "cell_type": "code",
   "execution_count": null,
   "metadata": {},
   "outputs": [],
   "source": []
  }
 ],
 "metadata": {
  "kernelspec": {
   "display_name": "Python 3",
   "language": "python",
   "name": "python3"
  },
  "language_info": {
   "codemirror_mode": {
    "name": "ipython",
    "version": 3
   },
   "file_extension": ".py",
   "mimetype": "text/x-python",
   "name": "python",
   "nbconvert_exporter": "python",
   "pygments_lexer": "ipython3",
   "version": "3.7.6"
  }
 },
 "nbformat": 4,
 "nbformat_minor": 4
}
